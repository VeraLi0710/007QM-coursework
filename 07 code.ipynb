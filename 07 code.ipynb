{
 "cells": [
  {
   "cell_type": "code",
   "execution_count": 29,
   "id": "de3e1abf-97dd-4c98-8b41-94b926fe4309",
   "metadata": {},
   "outputs": [
    {
     "name": "stdout",
     "output_type": "stream",
     "text": [
      "Loading the shapefile...\n",
      "Previewing attribute columns:\n",
      "<bound method NDFrame.head of          wd11cd                                     wd11nm    lad11cd  \\\n",
      "0     E05000001                                 Aldersgate  E09000001   \n",
      "1     E05000001                                 Aldersgate  E09000019   \n",
      "2     E05000002                                    Aldgate  E09000001   \n",
      "3     E05000003                                  Bassishaw  E09000001   \n",
      "4     E05000004                               Billingsgate  E09000001   \n",
      "...         ...                                        ...        ...   \n",
      "1222  E05007404  Warlingham East and Chelsham and Farleigh  E09000008   \n",
      "1223  E05007404  Warlingham East and Chelsham and Farleigh  E09000006   \n",
      "1224  E05007405                            Warlingham West  E09000008   \n",
      "1225  E05007406                                    Westway  E09000008   \n",
      "1226  E05007407                                 Whyteleafe  E09000008   \n",
      "\n",
      "                                               geometry  \n",
      "0     POLYGON ((532097.1 182012.799, 532104.4 182011...  \n",
      "1     POLYGON ((532097.1 182012.799, 532104.4 182011...  \n",
      "2     POLYGON ((533470.1 181404.799, 533509.399 1813...  \n",
      "3     POLYGON ((532544.799 181629.6, 532620.397 1816...  \n",
      "4     POLYGON ((533273.3 180425.2, 533249.701 180431...  \n",
      "...                                                 ...  \n",
      "1222  POLYGON ((538665.401 161270.6, 538679.997 1612...  \n",
      "1223  POLYGON ((538665.401 161270.6, 538679.997 1612...  \n",
      "1224  POLYGON ((535009.201 159504.7, 535012 159501.5...  \n",
      "1225  POLYGON ((532987.403 156307.6, 532970.2 156258...  \n",
      "1226  POLYGON ((535348.7 157024.299, 535331.501 1570...  \n",
      "\n",
      "[1227 rows x 4 columns]>\n"
     ]
    }
   ],
   "source": [
    "import geopandas as gpd  \n",
    "\n",
    "# 1. 定义文件路径  \n",
    "wards_file = \"data/London_Wards_Final_Cleaned.shp\"  # 2. 读取 Shapefile 数据  \n",
    "print(\"Loading the shapefile...\")  \n",
    "wards = gpd.read_file(wards_file) \n",
    "# 3. 查看数据属性列，找到相关区域字段  \n",
    "print(\"Previewing attribute columns:\")  \n",
    "print(wards.head)  # 打印所有列名，方便找到与区域信息相关的列（如区域名称或代码）  "
   ]
  },
  {
   "cell_type": "code",
   "execution_count": null,
   "id": "840e1232-9ef1-4d35-899b-7b4ef72e92aa",
   "metadata": {},
   "outputs": [],
   "source": []
  }
 ],
 "metadata": {
  "kernelspec": {
   "display_name": "Python (base)",
   "language": "python",
   "name": "base"
  },
  "language_info": {
   "codemirror_mode": {
    "name": "ipython",
    "version": 3
   },
   "file_extension": ".py",
   "mimetype": "text/x-python",
   "name": "python",
   "nbconvert_exporter": "python",
   "pygments_lexer": "ipython3",
   "version": "3.11.9"
  }
 },
 "nbformat": 4,
 "nbformat_minor": 5
}
